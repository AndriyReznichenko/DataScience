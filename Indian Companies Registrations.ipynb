{
 "cells": [
  {
   "cell_type": "markdown",
   "metadata": {},
   "source": [
    "## Indian Companies Registration Data [1857 - 2020]\n",
    "\n",
    "### Original source\n",
    "#### https://www.kaggle.com/rowhitswami/all-indian-companies-registration-data-1900-2019"
   ]
  },
  {
   "cell_type": "markdown",
   "metadata": {},
   "source": [
    "### Import libraries"
   ]
  },
  {
   "cell_type": "code",
   "execution_count": 178,
   "metadata": {},
   "outputs": [],
   "source": [
    "import pandas as pd\n",
    "import numpy as np\n",
    "import seaborn as sns\n",
    "\n",
    "import matplotlib \n",
    "from  matplotlib import pyplot as plt\n",
    "from  matplotlib import ticker as plticker\n",
    "\n",
    "import plotly.express as px"
   ]
  },
  {
   "cell_type": "markdown",
   "metadata": {},
   "source": [
    "### Read Dataset"
   ]
  },
  {
   "cell_type": "code",
   "execution_count": 10,
   "metadata": {},
   "outputs": [],
   "source": [
    "df = pd.read_csv('registered_companies.csv')"
   ]
  },
  {
   "cell_type": "code",
   "execution_count": 17,
   "metadata": {},
   "outputs": [
    {
     "data": {
      "text/html": [
       "<div>\n",
       "<style scoped>\n",
       "    .dataframe tbody tr th:only-of-type {\n",
       "        vertical-align: middle;\n",
       "    }\n",
       "\n",
       "    .dataframe tbody tr th {\n",
       "        vertical-align: top;\n",
       "    }\n",
       "\n",
       "    .dataframe thead th {\n",
       "        text-align: right;\n",
       "    }\n",
       "</style>\n",
       "<table border=\"1\" class=\"dataframe\">\n",
       "  <thead>\n",
       "    <tr style=\"text-align: right;\">\n",
       "      <th></th>\n",
       "      <th>CORPORATE_IDENTIFICATION_NUMBER</th>\n",
       "      <th>COMPANY_NAME</th>\n",
       "      <th>COMPANY_STATUS</th>\n",
       "      <th>COMPANY_CLASS</th>\n",
       "      <th>COMPANY_CATEGORY</th>\n",
       "      <th>COMPANY_SUB_CATEGORY</th>\n",
       "      <th>DATE_OF_REGISTRATION</th>\n",
       "      <th>REGISTERED_STATE</th>\n",
       "      <th>AUTHORIZED_CAP</th>\n",
       "      <th>PAIDUP_CAPITAL</th>\n",
       "      <th>INDUSTRIAL_CLASS</th>\n",
       "      <th>PRINCIPAL_BUSINESS_ACTIVITY_AS_PER_CIN</th>\n",
       "      <th>REGISTERED_OFFICE_ADDRESS</th>\n",
       "      <th>REGISTRAR_OF_COMPANIES</th>\n",
       "      <th>EMAIL_ADDR</th>\n",
       "      <th>LATEST_YEAR_ANNUAL_RETURN</th>\n",
       "      <th>LATEST_YEAR_FINANCIAL_STATEMENT</th>\n",
       "    </tr>\n",
       "  </thead>\n",
       "  <tbody>\n",
       "    <tr>\n",
       "      <th>0</th>\n",
       "      <td>F01450</td>\n",
       "      <td>NIKO RESOURCES LIMITED</td>\n",
       "      <td>ACTV</td>\n",
       "      <td>NaN</td>\n",
       "      <td>NaN</td>\n",
       "      <td>NaN</td>\n",
       "      <td>NaN</td>\n",
       "      <td>Gujarat</td>\n",
       "      <td>0.0</td>\n",
       "      <td>0.0</td>\n",
       "      <td>NaN</td>\n",
       "      <td>Agriculture &amp; allied</td>\n",
       "      <td>4TH FLOOR,LANDMARKRACE COURSE</td>\n",
       "      <td>ROC DELHI</td>\n",
       "      <td>SANJAY@NIKOINDIA.COM</td>\n",
       "      <td>NaN</td>\n",
       "      <td>NaN</td>\n",
       "    </tr>\n",
       "    <tr>\n",
       "      <th>1</th>\n",
       "      <td>F01518</td>\n",
       "      <td>WORLDWIDE RESOURCES HOLDINGS LTD</td>\n",
       "      <td>ACTV</td>\n",
       "      <td>NaN</td>\n",
       "      <td>NaN</td>\n",
       "      <td>NaN</td>\n",
       "      <td>16-07-1998</td>\n",
       "      <td>Gujarat</td>\n",
       "      <td>0.0</td>\n",
       "      <td>0.0</td>\n",
       "      <td>NaN</td>\n",
       "      <td>Agriculture &amp; allied</td>\n",
       "      <td>403 3 6 322 MAHAVIR HOUSEBUSHEER BAGH HYDERGUD...</td>\n",
       "      <td>ROC DELHI</td>\n",
       "      <td>NaN</td>\n",
       "      <td>NaN</td>\n",
       "      <td>NaN</td>\n",
       "    </tr>\n",
       "    <tr>\n",
       "      <th>2</th>\n",
       "      <td>F01573</td>\n",
       "      <td>ATWOOD OCEANIC PACIFIC LIMITED</td>\n",
       "      <td>ACTV</td>\n",
       "      <td>NaN</td>\n",
       "      <td>NaN</td>\n",
       "      <td>NaN</td>\n",
       "      <td>NaN</td>\n",
       "      <td>Gujarat</td>\n",
       "      <td>0.0</td>\n",
       "      <td>0.0</td>\n",
       "      <td>NaN</td>\n",
       "      <td>Agriculture &amp; allied</td>\n",
       "      <td>Quadrant 1, Plot Number 18, 2nd FloorSuman Tow...</td>\n",
       "      <td>ROC DELHI</td>\n",
       "      <td>info@nangia.com</td>\n",
       "      <td>NaN</td>\n",
       "      <td>NaN</td>\n",
       "    </tr>\n",
       "    <tr>\n",
       "      <th>3</th>\n",
       "      <td>F01802</td>\n",
       "      <td>SOLVAY S A BELGIUM</td>\n",
       "      <td>NAEF</td>\n",
       "      <td>NaN</td>\n",
       "      <td>NaN</td>\n",
       "      <td>NaN</td>\n",
       "      <td>25-06-2001</td>\n",
       "      <td>Gujarat</td>\n",
       "      <td>0.0</td>\n",
       "      <td>0.0</td>\n",
       "      <td>NaN</td>\n",
       "      <td>Agriculture &amp; allied</td>\n",
       "      <td>Plot No. 3526 &amp; 3527,GIDC Industrial Estate,</td>\n",
       "      <td>ROC DELHI</td>\n",
       "      <td>amit.kumashi@solvay.com</td>\n",
       "      <td>NaN</td>\n",
       "      <td>NaN</td>\n",
       "    </tr>\n",
       "    <tr>\n",
       "      <th>4</th>\n",
       "      <td>F01818</td>\n",
       "      <td>TATE AND LYLE INDUSTRIES LTD</td>\n",
       "      <td>ACTV</td>\n",
       "      <td>NaN</td>\n",
       "      <td>NaN</td>\n",
       "      <td>NaN</td>\n",
       "      <td>25-07-2001</td>\n",
       "      <td>Gujarat</td>\n",
       "      <td>0.0</td>\n",
       "      <td>0.0</td>\n",
       "      <td>NaN</td>\n",
       "      <td>Agriculture &amp; allied</td>\n",
       "      <td>24 ATMAJYOTI NAGARELLORA PARK</td>\n",
       "      <td>ROC DELHI</td>\n",
       "      <td>NaN</td>\n",
       "      <td>NaN</td>\n",
       "      <td>NaN</td>\n",
       "    </tr>\n",
       "  </tbody>\n",
       "</table>\n",
       "</div>"
      ],
      "text/plain": [
       "  CORPORATE_IDENTIFICATION_NUMBER                         COMPANY_NAME  \\\n",
       "0                          F01450            NIKO RESOURCES LIMITED      \n",
       "1                          F01518  WORLDWIDE RESOURCES HOLDINGS LTD      \n",
       "2                          F01573    ATWOOD OCEANIC PACIFIC LIMITED      \n",
       "3                          F01802                SOLVAY S A BELGIUM      \n",
       "4                          F01818      TATE AND LYLE INDUSTRIES LTD      \n",
       "\n",
       "  COMPANY_STATUS COMPANY_CLASS COMPANY_CATEGORY COMPANY_SUB_CATEGORY  \\\n",
       "0           ACTV           NaN              NaN                  NaN   \n",
       "1           ACTV           NaN              NaN                  NaN   \n",
       "2           ACTV           NaN              NaN                  NaN   \n",
       "3           NAEF           NaN              NaN                  NaN   \n",
       "4           ACTV           NaN              NaN                  NaN   \n",
       "\n",
       "  DATE_OF_REGISTRATION REGISTERED_STATE  AUTHORIZED_CAP  PAIDUP_CAPITAL  \\\n",
       "0                  NaN          Gujarat             0.0             0.0   \n",
       "1           16-07-1998          Gujarat             0.0             0.0   \n",
       "2                  NaN          Gujarat             0.0             0.0   \n",
       "3           25-06-2001          Gujarat             0.0             0.0   \n",
       "4           25-07-2001          Gujarat             0.0             0.0   \n",
       "\n",
       "  INDUSTRIAL_CLASS PRINCIPAL_BUSINESS_ACTIVITY_AS_PER_CIN  \\\n",
       "0              NaN                   Agriculture & allied   \n",
       "1              NaN                   Agriculture & allied   \n",
       "2              NaN                   Agriculture & allied   \n",
       "3              NaN                   Agriculture & allied   \n",
       "4              NaN                   Agriculture & allied   \n",
       "\n",
       "                           REGISTERED_OFFICE_ADDRESS REGISTRAR_OF_COMPANIES  \\\n",
       "0                    4TH FLOOR,LANDMARKRACE COURSE                ROC DELHI   \n",
       "1  403 3 6 322 MAHAVIR HOUSEBUSHEER BAGH HYDERGUD...              ROC DELHI   \n",
       "2  Quadrant 1, Plot Number 18, 2nd FloorSuman Tow...              ROC DELHI   \n",
       "3     Plot No. 3526 & 3527,GIDC Industrial Estate,                ROC DELHI   \n",
       "4                    24 ATMAJYOTI NAGARELLORA PARK                ROC DELHI   \n",
       "\n",
       "                EMAIL_ADDR LATEST_YEAR_ANNUAL_RETURN  \\\n",
       "0     SANJAY@NIKOINDIA.COM                       NaN   \n",
       "1                      NaN                       NaN   \n",
       "2          info@nangia.com                       NaN   \n",
       "3  amit.kumashi@solvay.com                       NaN   \n",
       "4                      NaN                       NaN   \n",
       "\n",
       "  LATEST_YEAR_FINANCIAL_STATEMENT  \n",
       "0                             NaN  \n",
       "1                             NaN  \n",
       "2                             NaN  \n",
       "3                             NaN  \n",
       "4                             NaN  "
      ]
     },
     "execution_count": 17,
     "metadata": {},
     "output_type": "execute_result"
    }
   ],
   "source": [
    "df.head()"
   ]
  },
  {
   "cell_type": "code",
   "execution_count": 18,
   "metadata": {},
   "outputs": [
    {
     "name": "stdout",
     "output_type": "stream",
     "text": [
      "There are 1992170 rows\n"
     ]
    }
   ],
   "source": [
    "print(f\"There are {df.shape[0]} rows\")"
   ]
  },
  {
   "cell_type": "markdown",
   "metadata": {},
   "source": [
    "#### Seems like there is a lot of missing values. Let's remove rows with missing values since we can not derive missing values anyway."
   ]
  },
  {
   "cell_type": "code",
   "execution_count": 172,
   "metadata": {},
   "outputs": [
    {
     "data": {
      "text/html": [
       "<div>\n",
       "<style scoped>\n",
       "    .dataframe tbody tr th:only-of-type {\n",
       "        vertical-align: middle;\n",
       "    }\n",
       "\n",
       "    .dataframe tbody tr th {\n",
       "        vertical-align: top;\n",
       "    }\n",
       "\n",
       "    .dataframe thead th {\n",
       "        text-align: right;\n",
       "    }\n",
       "</style>\n",
       "<table border=\"1\" class=\"dataframe\">\n",
       "  <thead>\n",
       "    <tr style=\"text-align: right;\">\n",
       "      <th></th>\n",
       "      <th>CORPORATE_IDENTIFICATION_NUMBER</th>\n",
       "      <th>COMPANY_NAME</th>\n",
       "      <th>COMPANY_STATUS</th>\n",
       "      <th>COMPANY_CLASS</th>\n",
       "      <th>COMPANY_CATEGORY</th>\n",
       "      <th>COMPANY_SUB_CATEGORY</th>\n",
       "      <th>DATE_OF_REGISTRATION</th>\n",
       "      <th>REGISTERED_STATE</th>\n",
       "      <th>AUTHORIZED_CAP</th>\n",
       "      <th>PAIDUP_CAPITAL</th>\n",
       "      <th>INDUSTRIAL_CLASS</th>\n",
       "      <th>PRINCIPAL_BUSINESS_ACTIVITY_AS_PER_CIN</th>\n",
       "      <th>REGISTERED_OFFICE_ADDRESS</th>\n",
       "      <th>REGISTRAR_OF_COMPANIES</th>\n",
       "      <th>EMAIL_ADDR</th>\n",
       "      <th>LATEST_YEAR_ANNUAL_RETURN</th>\n",
       "      <th>LATEST_YEAR_FINANCIAL_STATEMENT</th>\n",
       "    </tr>\n",
       "  </thead>\n",
       "  <tbody>\n",
       "    <tr>\n",
       "      <th>70</th>\n",
       "      <td>L01110GJ1991PLC015846</td>\n",
       "      <td>AMRAWORLD AGRICO LIMITED</td>\n",
       "      <td>ACTV</td>\n",
       "      <td>Public</td>\n",
       "      <td>Company limited by Shares</td>\n",
       "      <td>Non-govt company</td>\n",
       "      <td>21-06-1991</td>\n",
       "      <td>Gujarat</td>\n",
       "      <td>130000000.0</td>\n",
       "      <td>120300000.0</td>\n",
       "      <td>1110</td>\n",
       "      <td>Agriculture &amp; allied</td>\n",
       "      <td>24, LAXMI CHAMBERS, NAVJEEVAN PRESS ROAD,OPP. ...</td>\n",
       "      <td>ROC AHMEDABAD</td>\n",
       "      <td>amraworldagrico@gmail.com</td>\n",
       "      <td>31-03-2019</td>\n",
       "      <td>31-03-2019</td>\n",
       "    </tr>\n",
       "    <tr>\n",
       "      <th>71</th>\n",
       "      <td>L01110GJ1994PLC021066</td>\n",
       "      <td>TRANS TECHNO FOODS LIMITED</td>\n",
       "      <td>ULQD</td>\n",
       "      <td>Public</td>\n",
       "      <td>Company limited by Shares</td>\n",
       "      <td>Non-govt company</td>\n",
       "      <td>17-01-1994</td>\n",
       "      <td>Gujarat</td>\n",
       "      <td>220000000.0</td>\n",
       "      <td>211200000.0</td>\n",
       "      <td>1110</td>\n",
       "      <td>Agriculture &amp; allied</td>\n",
       "      <td>B-2 SARITA DARSHAN OPP JAIHIND PRESSASHRAM ROAD</td>\n",
       "      <td>ROC AHMEDABAD</td>\n",
       "      <td>anish_shahcs@yahoo.com</td>\n",
       "      <td>31-03-2009</td>\n",
       "      <td>31-03-2006</td>\n",
       "    </tr>\n",
       "    <tr>\n",
       "      <th>72</th>\n",
       "      <td>L01110GJ1994PLC021368</td>\n",
       "      <td>GALAXY AGRICO EXPORTS LIMITED</td>\n",
       "      <td>ACTV</td>\n",
       "      <td>Public</td>\n",
       "      <td>Company limited by Shares</td>\n",
       "      <td>Non-govt company</td>\n",
       "      <td>23-02-1994</td>\n",
       "      <td>Gujarat</td>\n",
       "      <td>55000000.0</td>\n",
       "      <td>27316200.0</td>\n",
       "      <td>1110</td>\n",
       "      <td>Agriculture &amp; allied</td>\n",
       "      <td>236, Jai Kishan Industrial Estate,Behind Murli...</td>\n",
       "      <td>ROC AHMEDABAD</td>\n",
       "      <td>info@galaxyagrico.com</td>\n",
       "      <td>31-03-2019</td>\n",
       "      <td>31-03-2019</td>\n",
       "    </tr>\n",
       "    <tr>\n",
       "      <th>73</th>\n",
       "      <td>L01110GJ1996PLC029329</td>\n",
       "      <td>CHEMCRUX ENTERPRISES LIMITED</td>\n",
       "      <td>ACTV</td>\n",
       "      <td>Public</td>\n",
       "      <td>Company limited by Shares</td>\n",
       "      <td>Non-govt company</td>\n",
       "      <td>15-04-1996</td>\n",
       "      <td>Gujarat</td>\n",
       "      <td>60000000.0</td>\n",
       "      <td>49362800.0</td>\n",
       "      <td>1110</td>\n",
       "      <td>Agriculture &amp; allied</td>\n",
       "      <td>330, TRIVIA Complex,Natubhai Circle, Racecourse</td>\n",
       "      <td>ROC AHMEDABAD</td>\n",
       "      <td>girishshah@chemcrux.com</td>\n",
       "      <td>31-03-2019</td>\n",
       "      <td>31-03-2019</td>\n",
       "    </tr>\n",
       "    <tr>\n",
       "      <th>74</th>\n",
       "      <td>L01111GJ2011PLC068414</td>\n",
       "      <td>JIYA ECO-PRODUCTS LIMITED</td>\n",
       "      <td>ACTV</td>\n",
       "      <td>Public</td>\n",
       "      <td>Company limited by Shares</td>\n",
       "      <td>Non-govt company</td>\n",
       "      <td>27-12-2011</td>\n",
       "      <td>Gujarat</td>\n",
       "      <td>320000000.0</td>\n",
       "      <td>300732620.0</td>\n",
       "      <td>1111</td>\n",
       "      <td>Agriculture &amp; allied</td>\n",
       "      <td>SURVEY NO. 202/2/1, NAVAGAM (G),TALUKA VALLABH...</td>\n",
       "      <td>ROC AHMEDABAD</td>\n",
       "      <td>cfo@jiyaeco.com</td>\n",
       "      <td>31-03-2019</td>\n",
       "      <td>31-03-2019</td>\n",
       "    </tr>\n",
       "  </tbody>\n",
       "</table>\n",
       "</div>"
      ],
      "text/plain": [
       "   CORPORATE_IDENTIFICATION_NUMBER                      COMPANY_NAME  \\\n",
       "70           L01110GJ1991PLC015846       AMRAWORLD AGRICO LIMITED      \n",
       "71           L01110GJ1994PLC021066     TRANS TECHNO FOODS LIMITED      \n",
       "72           L01110GJ1994PLC021368  GALAXY AGRICO EXPORTS LIMITED      \n",
       "73           L01110GJ1996PLC029329   CHEMCRUX ENTERPRISES LIMITED      \n",
       "74           L01111GJ2011PLC068414      JIYA ECO-PRODUCTS LIMITED      \n",
       "\n",
       "   COMPANY_STATUS COMPANY_CLASS           COMPANY_CATEGORY  \\\n",
       "70           ACTV        Public  Company limited by Shares   \n",
       "71           ULQD        Public  Company limited by Shares   \n",
       "72           ACTV        Public  Company limited by Shares   \n",
       "73           ACTV        Public  Company limited by Shares   \n",
       "74           ACTV        Public  Company limited by Shares   \n",
       "\n",
       "   COMPANY_SUB_CATEGORY DATE_OF_REGISTRATION REGISTERED_STATE  AUTHORIZED_CAP  \\\n",
       "70     Non-govt company           21-06-1991          Gujarat     130000000.0   \n",
       "71     Non-govt company           17-01-1994          Gujarat     220000000.0   \n",
       "72     Non-govt company           23-02-1994          Gujarat      55000000.0   \n",
       "73     Non-govt company           15-04-1996          Gujarat      60000000.0   \n",
       "74     Non-govt company           27-12-2011          Gujarat     320000000.0   \n",
       "\n",
       "    PAIDUP_CAPITAL INDUSTRIAL_CLASS PRINCIPAL_BUSINESS_ACTIVITY_AS_PER_CIN  \\\n",
       "70     120300000.0             1110                   Agriculture & allied   \n",
       "71     211200000.0             1110                   Agriculture & allied   \n",
       "72      27316200.0             1110                   Agriculture & allied   \n",
       "73      49362800.0             1110                   Agriculture & allied   \n",
       "74     300732620.0             1111                   Agriculture & allied   \n",
       "\n",
       "                            REGISTERED_OFFICE_ADDRESS REGISTRAR_OF_COMPANIES  \\\n",
       "70  24, LAXMI CHAMBERS, NAVJEEVAN PRESS ROAD,OPP. ...          ROC AHMEDABAD   \n",
       "71  B-2 SARITA DARSHAN OPP JAIHIND PRESSASHRAM ROAD            ROC AHMEDABAD   \n",
       "72  236, Jai Kishan Industrial Estate,Behind Murli...          ROC AHMEDABAD   \n",
       "73  330, TRIVIA Complex,Natubhai Circle, Racecourse            ROC AHMEDABAD   \n",
       "74  SURVEY NO. 202/2/1, NAVAGAM (G),TALUKA VALLABH...          ROC AHMEDABAD   \n",
       "\n",
       "                   EMAIL_ADDR LATEST_YEAR_ANNUAL_RETURN  \\\n",
       "70  amraworldagrico@gmail.com                31-03-2019   \n",
       "71     anish_shahcs@yahoo.com                31-03-2009   \n",
       "72      info@galaxyagrico.com                31-03-2019   \n",
       "73    girishshah@chemcrux.com                31-03-2019   \n",
       "74            cfo@jiyaeco.com                31-03-2019   \n",
       "\n",
       "   LATEST_YEAR_FINANCIAL_STATEMENT  \n",
       "70                      31-03-2019  \n",
       "71                      31-03-2006  \n",
       "72                      31-03-2019  \n",
       "73                      31-03-2019  \n",
       "74                      31-03-2019  "
      ]
     },
     "execution_count": 172,
     "metadata": {},
     "output_type": "execute_result"
    }
   ],
   "source": [
    "data = df.dropna()\n",
    "\n",
    "data.head()"
   ]
  },
  {
   "cell_type": "code",
   "execution_count": 173,
   "metadata": {},
   "outputs": [
    {
     "name": "stdout",
     "output_type": "stream",
     "text": [
      "There are 1124485 rows\n"
     ]
    }
   ],
   "source": [
    "print(f\"There are {data.shape[0]} rows\")"
   ]
  },
  {
   "cell_type": "markdown",
   "metadata": {},
   "source": [
    "### 1. Find states that have the largest amount of registed companies \n",
    "####   First plot is visualized normally, second with using log scale.  "
   ]
  },
  {
   "cell_type": "code",
   "execution_count": 174,
   "metadata": {},
   "outputs": [
    {
     "data": {
      "image/png": "[encoded data removed]",
      "text/plain": [
       "<Figure size 1440x1440 with 1 Axes>"
      ]
     },
     "metadata": {
      "needs_background": "light"
     },
     "output_type": "display_data"
    }
   ],
   "source": [
    "matplotlib.rc('xtick', labelsize=22) \n",
    "matplotlib.rc('ytick', labelsize=22) \n",
    "\n",
    "state_count = data.groupby('REGISTERED_STATE').size().sort_values(ascending=True)\n",
    "plt.figure(figsize=(20,20))\n",
    "sns.barplot(state_count.tolist(), state_count.keys())\n",
    "plt.show()"
   ]
  },
  {
   "cell_type": "code",
   "execution_count": 106,
   "metadata": {},
   "outputs": [
    {
     "data": {
      "image/png": "[encoded data removed]",
      "text/plain": [
       "<Figure size 1440x1440 with 1 Axes>"
      ]
     },
     "metadata": {
      "needs_background": "light"
     },
     "output_type": "display_data"
    }
   ],
   "source": [
    "plt.figure(figsize=(20,20))\n",
    "sns.barplot(state_count.tolist(), state_count.keys()).set(xscale=\"log\")\n",
    "plt.show()"
   ]
  },
  {
   "cell_type": "markdown",
   "metadata": {},
   "source": [
    "### 2. Find number of registrations over the years"
   ]
  },
  {
   "cell_type": "code",
   "execution_count": 176,
   "metadata": {},
   "outputs": [
    {
     "name": "stderr",
     "output_type": "stream",
     "text": [
      "c:\\users\\user\\appdata\\local\\programs\\python\\python37\\lib\\site-packages\\ipykernel_launcher.py:1: SettingWithCopyWarning:\n",
      "\n",
      "\n",
      "A value is trying to be set on a copy of a slice from a DataFrame.\n",
      "Try using .loc[row_indexer,col_indexer] = value instead\n",
      "\n",
      "See the caveats in the documentation: http://pandas.pydata.org/pandas-docs/stable/indexing.html#indexing-view-versus-copy\n",
      "\n"
     ]
    }
   ],
   "source": [
    "data['YEAR_OF_REGISTRATION'] = pd.to_datetime(data['DATE_OF_REGISTRATION'], errors = 'coerce').dt.year"
   ]
  },
  {
   "cell_type": "code",
   "execution_count": 177,
   "metadata": {},
   "outputs": [
    {
     "data": {
      "application/vnd.plotly.v1+json": {
       "config": {
        "plotlyServerURL": "https://plot.ly"
       },
       "data": [
        {
         "alignmentgroup": "True",
         "hovertemplate": "Year=%{x}<br>Number of registred companies=%{y}<extra></extra>",
         "legendgroup": "",
         "marker": {
          "color": "#636efa"
         },
         "name": "",
         "offsetgroup": "",
         "orientation": "v",
         "showlegend": false,
         "textposition": "auto",
         "type": "bar",
         "x": [
          1863,
          1871,
          1872,
          1873,
          1874,
          1876,
          1877,
          1878,
          1879,
          1880,
          1881,
          1882,
          1883,
          1885,
          1886,
          1887,
          1888,
          1889,
          1890,
          1891,
          1892,
          1893,
          1894,
          1895,
          1896,
          1897,
          1898,
          1899,
          1900,
          1901,
          1902,
          1903,
          1904,
          1905,
          1906,
          1907,
          1908,
          1909,
          1910,
          1911,
          1912,
          1913,
          1914,
          1915,
          1916,
          1917,
          1918,
          1919,
          1920,
          1921,
          1922,
          1923,
          1924,
          1925,
          1926,
          1927,
          1928,
          1929,
          1930,
          1931,
          1932,
          1933,
          1934,
          1935,
          1936,
          1937,
          1938,
          1939,
          1940,
          1941,
          1942,
          1943,
          1944,
          1945,
          1946,
          1947,
          1948,
          1949,
          1950,
          1951,
          1952,
          1953,
          1954,
          1955,
          1956,
          1957,
          1958,
          1959,
          1960,
          1961,
          1962,
          1963,
          1964,
          1965,
          1966,
          1967,
          1968,
          1969,
          1970,
          1971,
          1972,
          1973,
          1974,
          1975,
          1976,
          1977,
          1978,
          1979,
          1980,
          1981,
          1982,
          1983,
          1984,
          1985,
          1986,
          1987,
          1988,
          1989,
          1990,
          1991,
          1992,
          1993,
          1994,
          1995,
          1996,
          1997,
          1998,
          1999,
          2000,
          2001,
          2002,
          2003,
          2004,
          2005,
          2006,
          2007,
          2008,
          2009,
          2010,
          2011,
          2012,
          2013,
          2014,
          2015,
          2016,
          2017,
          2018,
          2019
         ],
         "xaxis": "x",
         "y": [
          3,
          3,
          1,
          3,
          2,
          3,
          1,
          2,
          5,
          1,
          1,
          5,
          3,
          4,
          2,
          1,
          2,
          8,
          6,
          4,
          1,
          4,
          3,
          6,
          5,
          7,
          4,
          2,
          13,
          15,
          4,
          5,
          8,
          13,
          8,
          13,
          10,
          18,
          21,
          8,
          16,
          29,
          17,
          12,
          15,
          27,
          42,
          61,
          54,
          35,
          44,
          36,
          31,
          38,
          38,
          37,
          47,
          48,
          57,
          62,
          68,
          70,
          70,
          88,
          107,
          110,
          111,
          126,
          128,
          166,
          145,
          222,
          142,
          213,
          430,
          385,
          374,
          334,
          288,
          277,
          219,
          195,
          240,
          311,
          288,
          241,
          281,
          306,
          425,
          417,
          398,
          358,
          371,
          427,
          337,
          299,
          379,
          446,
          683,
          906,
          1118,
          1300,
          1340,
          1185,
          1047,
          986,
          1424,
          1952,
          2794,
          4142,
          4382,
          4630,
          5180,
          6064,
          6185,
          6641,
          8307,
          8519,
          8591,
          10293,
          11164,
          12854,
          18955,
          27418,
          20864,
          17073,
          13001,
          14603,
          16161,
          11879,
          12974,
          17520,
          25786,
          38741,
          38730,
          51074,
          57449,
          46587,
          66325,
          71132,
          72461,
          61652,
          45810,
          52517,
          62057,
          73317,
          62174,
          5772
         ],
         "yaxis": "y"
        }
       ],
       "layout": {
        "barmode": "relative",
        "legend": {
         "tracegroupgap": 0
        },
        "margin": {
         "t": 60
        },
        "template": {
         "data": {
          "bar": [
           {
            "error_x": {
             "color": "#2a3f5f"
            },
            "error_y": {
             "color": "#2a3f5f"
            },
            "marker": {
             "line": {
              "color": "#E5ECF6",
              "width": 0.5
             }
            },
            "type": "bar"
           }
          ],
          "barpolar": [
           {
            "marker": {
             "line": {
              "color": "#E5ECF6",
              "width": 0.5
             }
            },
            "type": "barpolar"
           }
          ],
          "carpet": [
           {
            "aaxis": {
             "endlinecolor": "#2a3f5f",
             "gridcolor": "white",
             "linecolor": "white",
             "minorgridcolor": "white",
             "startlinecolor": "#2a3f5f"
            },
            "baxis": {
             "endlinecolor": "#2a3f5f",
             "gridcolor": "white",
             "linecolor": "white",
             "minorgridcolor": "white",
             "startlinecolor": "#2a3f5f"
            },
            "type": "carpet"
           }
          ],
          "choropleth": [
           {
            "colorbar": {
             "outlinewidth": 0,
             "ticks": ""
            },
            "type": "choropleth"
           }
          ],
          "contour": [
           {
            "colorbar": {
             "outlinewidth": 0,
             "ticks": ""
            },
            "colorscale": [
             [
              0,
              "#0d0887"
             ],
             [
              0.1111111111111111,
              "#46039f"
             ],
             [
              0.2222222222222222,
              "#7201a8"
             ],
             [
              0.3333333333333333,
              "#9c179e"
             ],
             [
              0.4444444444444444,
              "#bd3786"
             ],
             [
              0.5555555555555556,
              "#d8576b"
             ],
             [
              0.6666666666666666,
              "#ed7953"
             ],
             [
              0.7777777777777778,
              "#fb9f3a"
             ],
             [
              0.8888888888888888,
              "#fdca26"
             ],
             [
              1,
              "#f0f921"
             ]
            ],
            "type": "contour"
           }
          ],
          "contourcarpet": [
           {
            "colorbar": {
             "outlinewidth": 0,
             "ticks": ""
            },
            "type": "contourcarpet"
           }
          ],
          "heatmap": [
           {
            "colorbar": {
             "outlinewidth": 0,
             "ticks": ""
            },
            "colorscale": [
             [
              0,
              "#0d0887"
             ],
             [
              0.1111111111111111,
              "#46039f"
             ],
             [
              0.2222222222222222,
              "#7201a8"
             ],
             [
              0.3333333333333333,
              "#9c179e"
             ],
             [
              0.4444444444444444,
              "#bd3786"
             ],
             [
              0.5555555555555556,
              "#d8576b"
             ],
             [
              0.6666666666666666,
              "#ed7953"
             ],
             [
              0.7777777777777778,
              "#fb9f3a"
             ],
             [
              0.8888888888888888,
              "#fdca26"
             ],
             [
              1,
              "#f0f921"
             ]
            ],
            "type": "heatmap"
           }
          ],
          "heatmapgl": [
           {
            "colorbar": {
             "outlinewidth": 0,
             "ticks": ""
            },
            "colorscale": [
             [
              0,
              "#0d0887"
             ],
             [
              0.1111111111111111,
              "#46039f"
             ],
             [
              0.2222222222222222,
              "#7201a8"
             ],
             [
              0.3333333333333333,
              "#9c179e"
             ],
             [
              0.4444444444444444,
              "#bd3786"
             ],
             [
              0.5555555555555556,
              "#d8576b"
             ],
             [
              0.6666666666666666,
              "#ed7953"
             ],
             [
              0.7777777777777778,
              "#fb9f3a"
             ],
             [
              0.8888888888888888,
              "#fdca26"
             ],
             [
              1,
              "#f0f921"
             ]
            ],
            "type": "heatmapgl"
           }
          ],
          "histogram": [
           {
            "marker": {
             "colorbar": {
              "outlinewidth": 0,
              "ticks": ""
             }
            },
            "type": "histogram"
           }
          ],
          "histogram2d": [
           {
            "colorbar": {
             "outlinewidth": 0,
             "ticks": ""
            },
            "colorscale": [
             [
              0,
              "#0d0887"
             ],
             [
              0.1111111111111111,
              "#46039f"
             ],
             [
              0.2222222222222222,
              "#7201a8"
             ],
             [
              0.3333333333333333,
              "#9c179e"
             ],
             [
              0.4444444444444444,
              "#bd3786"
             ],
             [
              0.5555555555555556,
              "#d8576b"
             ],
             [
              0.6666666666666666,
              "#ed7953"
             ],
             [
              0.7777777777777778,
              "#fb9f3a"
             ],
             [
              0.8888888888888888,
              "#fdca26"
             ],
             [
              1,
              "#f0f921"
             ]
            ],
            "type": "histogram2d"
           }
          ],
          "histogram2dcontour": [
           {
            "colorbar": {
             "outlinewidth": 0,
             "ticks": ""
            },
            "colorscale": [
             [
              0,
              "#0d0887"
             ],
             [
              0.1111111111111111,
              "#46039f"
             ],
             [
              0.2222222222222222,
              "#7201a8"
             ],
             [
              0.3333333333333333,
              "#9c179e"
             ],
             [
              0.4444444444444444,
              "#bd3786"
             ],
             [
              0.5555555555555556,
              "#d8576b"
             ],
             [
              0.6666666666666666,
              "#ed7953"
             ],
             [
              0.7777777777777778,
              "#fb9f3a"
             ],
             [
              0.8888888888888888,
              "#fdca26"
             ],
             [
              1,
              "#f0f921"
             ]
            ],
            "type": "histogram2dcontour"
           }
          ],
          "mesh3d": [
           {
            "colorbar": {
             "outlinewidth": 0,
             "ticks": ""
            },
            "type": "mesh3d"
           }
          ],
          "parcoords": [
           {
            "line": {
             "colorbar": {
              "outlinewidth": 0,
              "ticks": ""
             }
            },
            "type": "parcoords"
           }
          ],
          "pie": [
           {
            "automargin": true,
            "type": "pie"
           }
          ],
          "scatter": [
           {
            "marker": {
             "colorbar": {
              "outlinewidth": 0,
              "ticks": ""
             }
            },
            "type": "scatter"
           }
          ],
          "scatter3d": [
           {
            "line": {
             "colorbar": {
              "outlinewidth": 0,
              "ticks": ""
             }
            },
            "marker": {
             "colorbar": {
              "outlinewidth": 0,
              "ticks": ""
             }
            },
            "type": "scatter3d"
           }
          ],
          "scattercarpet": [
           {
            "marker": {
             "colorbar": {
              "outlinewidth": 0,
              "ticks": ""
             }
            },
            "type": "scattercarpet"
           }
          ],
          "scattergeo": [
           {
            "marker": {
             "colorbar": {
              "outlinewidth": 0,
              "ticks": ""
             }
            },
            "type": "scattergeo"
           }
          ],
          "scattergl": [
           {
            "marker": {
             "colorbar": {
              "outlinewidth": 0,
              "ticks": ""
             }
            },
            "type": "scattergl"
           }
          ],
          "scattermapbox": [
           {
            "marker": {
             "colorbar": {
              "outlinewidth": 0,
              "ticks": ""
             }
            },
            "type": "scattermapbox"
           }
          ],
          "scatterpolar": [
           {
            "marker": {
             "colorbar": {
              "outlinewidth": 0,
              "ticks": ""
             }
            },
            "type": "scatterpolar"
           }
          ],
          "scatterpolargl": [
           {
            "marker": {
             "colorbar": {
              "outlinewidth": 0,
              "ticks": ""
             }
            },
            "type": "scatterpolargl"
           }
          ],
          "scatterternary": [
           {
            "marker": {
             "colorbar": {
              "outlinewidth": 0,
              "ticks": ""
             }
            },
            "type": "scatterternary"
           }
          ],
          "surface": [
           {
            "colorbar": {
             "outlinewidth": 0,
             "ticks": ""
            },
            "colorscale": [
             [
              0,
              "#0d0887"
             ],
             [
              0.1111111111111111,
              "#46039f"
             ],
             [
              0.2222222222222222,
              "#7201a8"
             ],
             [
              0.3333333333333333,
              "#9c179e"
             ],
             [
              0.4444444444444444,
              "#bd3786"
             ],
             [
              0.5555555555555556,
              "#d8576b"
             ],
             [
              0.6666666666666666,
              "#ed7953"
             ],
             [
              0.7777777777777778,
              "#fb9f3a"
             ],
             [
              0.8888888888888888,
              "#fdca26"
             ],
             [
              1,
              "#f0f921"
             ]
            ],
            "type": "surface"
           }
          ],
          "table": [
           {
            "cells": {
             "fill": {
              "color": "#EBF0F8"
             },
             "line": {
              "color": "white"
             }
            },
            "header": {
             "fill": {
              "color": "#C8D4E3"
             },
             "line": {
              "color": "white"
             }
            },
            "type": "table"
           }
          ]
         },
         "layout": {
          "annotationdefaults": {
           "arrowcolor": "#2a3f5f",
           "arrowhead": 0,
           "arrowwidth": 1
          },
          "autotypenumbers": "strict",
          "coloraxis": {
           "colorbar": {
            "outlinewidth": 0,
            "ticks": ""
           }
          },
          "colorscale": {
           "diverging": [
            [
             0,
             "#8e0152"
            ],
            [
             0.1,
             "#c51b7d"
            ],
            [
             0.2,
             "#de77ae"
            ],
            [
             0.3,
             "#f1b6da"
            ],
            [
             0.4,
             "#fde0ef"
            ],
            [
             0.5,
             "#f7f7f7"
            ],
            [
             0.6,
             "#e6f5d0"
            ],
            [
             0.7,
             "#b8e186"
            ],
            [
             0.8,
             "#7fbc41"
            ],
            [
             0.9,
             "#4d9221"
            ],
            [
             1,
             "#276419"
            ]
           ],
           "sequential": [
            [
             0,
             "#0d0887"
            ],
            [
             0.1111111111111111,
             "#46039f"
            ],
            [
             0.2222222222222222,
             "#7201a8"
            ],
            [
             0.3333333333333333,
             "#9c179e"
            ],
            [
             0.4444444444444444,
             "#bd3786"
            ],
            [
             0.5555555555555556,
             "#d8576b"
            ],
            [
             0.6666666666666666,
             "#ed7953"
            ],
            [
             0.7777777777777778,
             "#fb9f3a"
            ],
            [
             0.8888888888888888,
             "#fdca26"
            ],
            [
             1,
             "#f0f921"
            ]
           ],
           "sequentialminus": [
            [
             0,
             "#0d0887"
            ],
            [
             0.1111111111111111,
             "#46039f"
            ],
            [
             0.2222222222222222,
             "#7201a8"
            ],
            [
             0.3333333333333333,
             "#9c179e"
            ],
            [
             0.4444444444444444,
             "#bd3786"
            ],
            [
             0.5555555555555556,
             "#d8576b"
            ],
            [
             0.6666666666666666,
             "#ed7953"
            ],
            [
             0.7777777777777778,
             "#fb9f3a"
            ],
            [
             0.8888888888888888,
             "#fdca26"
            ],
            [
             1,
             "#f0f921"
            ]
           ]
          },
          "colorway": [
           "#636efa",
           "#EF553B",
           "#00cc96",
           "#ab63fa",
           "#FFA15A",
           "#19d3f3",
           "#FF6692",
           "#B6E880",
           "#FF97FF",
           "#FECB52"
          ],
          "font": {
           "color": "#2a3f5f"
          },
          "geo": {
           "bgcolor": "white",
           "lakecolor": "white",
           "landcolor": "#E5ECF6",
           "showlakes": true,
           "showland": true,
           "subunitcolor": "white"
          },
          "hoverlabel": {
           "align": "left"
          },
          "hovermode": "closest",
          "mapbox": {
           "style": "light"
          },
          "paper_bgcolor": "white",
          "plot_bgcolor": "#E5ECF6",
          "polar": {
           "angularaxis": {
            "gridcolor": "white",
            "linecolor": "white",
            "ticks": ""
           },
           "bgcolor": "#E5ECF6",
           "radialaxis": {
            "gridcolor": "white",
            "linecolor": "white",
            "ticks": ""
           }
          },
          "scene": {
           "xaxis": {
            "backgroundcolor": "#E5ECF6",
            "gridcolor": "white",
            "gridwidth": 2,
            "linecolor": "white",
            "showbackground": true,
            "ticks": "",
            "zerolinecolor": "white"
           },
           "yaxis": {
            "backgroundcolor": "#E5ECF6",
            "gridcolor": "white",
            "gridwidth": 2,
            "linecolor": "white",
            "showbackground": true,
            "ticks": "",
            "zerolinecolor": "white"
           },
           "zaxis": {
            "backgroundcolor": "#E5ECF6",
            "gridcolor": "white",
            "gridwidth": 2,
            "linecolor": "white",
            "showbackground": true,
            "ticks": "",
            "zerolinecolor": "white"
           }
          },
          "shapedefaults": {
           "line": {
            "color": "#2a3f5f"
           }
          },
          "ternary": {
           "aaxis": {
            "gridcolor": "white",
            "linecolor": "white",
            "ticks": ""
           },
           "baxis": {
            "gridcolor": "white",
            "linecolor": "white",
            "ticks": ""
           },
           "bgcolor": "#E5ECF6",
           "caxis": {
            "gridcolor": "white",
            "linecolor": "white",
            "ticks": ""
           }
          },
          "title": {
           "x": 0.05
          },
          "xaxis": {
           "automargin": true,
           "gridcolor": "white",
           "linecolor": "white",
           "ticks": "",
           "title": {
            "standoff": 15
           },
           "zerolinecolor": "white",
           "zerolinewidth": 2
          },
          "yaxis": {
           "automargin": true,
           "gridcolor": "white",
           "linecolor": "white",
           "ticks": "",
           "title": {
            "standoff": 15
           },
           "zerolinecolor": "white",
           "zerolinewidth": 2
          }
         }
        },
        "xaxis": {
         "anchor": "y",
         "domain": [
          0,
          1
         ],
         "title": {
          "text": "Year"
         }
        },
        "yaxis": {
         "anchor": "x",
         "domain": [
          0,
          1
         ],
         "title": {
          "text": "Number of registred companies"
         }
        }
       }
      },
      "text/html": [
       "<div>                            <div id=\"458b9c33-b4c5-48dc-b718-57ad61b3b72d\" class=\"plotly-graph-div\" style=\"height:525px; width:100%;\"></div>            <script type=\"text/javascript\">                require([\"plotly\"], function(Plotly) {                    window.PLOTLYENV=window.PLOTLYENV || {};                                    if (document.getElementById(\"458b9c33-b4c5-48dc-b718-57ad61b3b72d\")) {                    Plotly.newPlot(                        \"458b9c33-b4c5-48dc-b718-57ad61b3b72d\",                        [{\"alignmentgroup\": \"True\", \"hovertemplate\": \"Year=%{x}<br>Number of registred companies=%{y}<extra></extra>\", \"legendgroup\": \"\", \"marker\": {\"color\": \"#636efa\"}, \"name\": \"\", \"offsetgroup\": \"\", \"orientation\": \"v\", \"showlegend\": false, \"textposition\": \"auto\", \"type\": \"bar\", \"x\": [1863, 1871, 1872, 1873, 1874, 1876, 1877, 1878, 1879, 1880, 1881, 1882, 1883, 1885, 1886, 1887, 1888, 1889, 1890, 1891, 1892, 1893, 1894, 1895, 1896, 1897, 1898, 1899, 1900, 1901, 1902, 1903, 1904, 1905, 1906, 1907, 1908, 1909, 1910, 1911, 1912, 1913, 1914, 1915, 1916, 1917, 1918, 1919, 1920, 1921, 1922, 1923, 1924, 1925, 1926, 1927, 1928, 1929, 1930, 1931, 1932, 1933, 1934, 1935, 1936, 1937, 1938, 1939, 1940, 1941, 1942, 1943, 1944, 1945, 1946, 1947, 1948, 1949, 1950, 1951, 1952, 1953, 1954, 1955, 1956, 1957, 1958, 1959, 1960, 1961, 1962, 1963, 1964, 1965, 1966, 1967, 1968, 1969, 1970, 1971, 1972, 1973, 1974, 1975, 1976, 1977, 1978, 1979, 1980, 1981, 1982, 1983, 1984, 1985, 1986, 1987, 1988, 1989, 1990, 1991, 1992, 1993, 1994, 1995, 1996, 1997, 1998, 1999, 2000, 2001, 2002, 2003, 2004, 2005, 2006, 2007, 2008, 2009, 2010, 2011, 2012, 2013, 2014, 2015, 2016, 2017, 2018, 2019], \"xaxis\": \"x\", \"y\": [3, 3, 1, 3, 2, 3, 1, 2, 5, 1, 1, 5, 3, 4, 2, 1, 2, 8, 6, 4, 1, 4, 3, 6, 5, 7, 4, 2, 13, 15, 4, 5, 8, 13, 8, 13, 10, 18, 21, 8, 16, 29, 17, 12, 15, 27, 42, 61, 54, 35, 44, 36, 31, 38, 38, 37, 47, 48, 57, 62, 68, 70, 70, 88, 107, 110, 111, 126, 128, 166, 145, 222, 142, 213, 430, 385, 374, 334, 288, 277, 219, 195, 240, 311, 288, 241, 281, 306, 425, 417, 398, 358, 371, 427, 337, 299, 379, 446, 683, 906, 1118, 1300, 1340, 1185, 1047, 986, 1424, 1952, 2794, 4142, 4382, 4630, 5180, 6064, 6185, 6641, 8307, 8519, 8591, 10293, 11164, 12854, 18955, 27418, 20864, 17073, 13001, 14603, 16161, 11879, 12974, 17520, 25786, 38741, 38730, 51074, 57449, 46587, 66325, 71132, 72461, 61652, 45810, 52517, 62057, 73317, 62174, 5772], \"yaxis\": \"y\"}],                        {\"barmode\": \"relative\", \"legend\": {\"tracegroupgap\": 0}, \"margin\": {\"t\": 60}, \"template\": {\"data\": {\"bar\": [{\"error_x\": {\"color\": \"#2a3f5f\"}, \"error_y\": {\"color\": \"#2a3f5f\"}, \"marker\": {\"line\": {\"color\": \"#E5ECF6\", \"width\": 0.5}}, \"type\": \"bar\"}], \"barpolar\": [{\"marker\": {\"line\": {\"color\": \"#E5ECF6\", \"width\": 0.5}}, \"type\": \"barpolar\"}], \"carpet\": [{\"aaxis\": {\"endlinecolor\": \"#2a3f5f\", \"gridcolor\": \"white\", \"linecolor\": \"white\", \"minorgridcolor\": \"white\", \"startlinecolor\": \"#2a3f5f\"}, \"baxis\": {\"endlinecolor\": \"#2a3f5f\", \"gridcolor\": \"white\", \"linecolor\": \"white\", \"minorgridcolor\": \"white\", \"startlinecolor\": \"#2a3f5f\"}, \"type\": \"carpet\"}], \"choropleth\": [{\"colorbar\": {\"outlinewidth\": 0, \"ticks\": \"\"}, \"type\": \"choropleth\"}], \"contour\": [{\"colorbar\": {\"outlinewidth\": 0, \"ticks\": \"\"}, \"colorscale\": [[0.0, \"#0d0887\"], [0.1111111111111111, \"#46039f\"], [0.2222222222222222, \"#7201a8\"], [0.3333333333333333, \"#9c179e\"], [0.4444444444444444, \"#bd3786\"], [0.5555555555555556, \"#d8576b\"], [0.6666666666666666, \"#ed7953\"], [0.7777777777777778, \"#fb9f3a\"], [0.8888888888888888, \"#fdca26\"], [1.0, \"#f0f921\"]], \"type\": \"contour\"}], \"contourcarpet\": [{\"colorbar\": {\"outlinewidth\": 0, \"ticks\": \"\"}, \"type\": \"contourcarpet\"}], \"heatmap\": [{\"colorbar\": {\"outlinewidth\": 0, \"ticks\": \"\"}, \"colorscale\": [[0.0, \"#0d0887\"], [0.1111111111111111, \"#46039f\"], [0.2222222222222222, \"#7201a8\"], [0.3333333333333333, \"#9c179e\"], [0.4444444444444444, \"#bd3786\"], [0.5555555555555556, \"#d8576b\"], [0.6666666666666666, \"#ed7953\"], [0.7777777777777778, \"#fb9f3a\"], [0.8888888888888888, \"#fdca26\"], [1.0, \"#f0f921\"]], \"type\": \"heatmap\"}], \"heatmapgl\": [{\"colorbar\": {\"outlinewidth\": 0, \"ticks\": \"\"}, \"colorscale\": [[0.0, \"#0d0887\"], [0.1111111111111111, \"#46039f\"], [0.2222222222222222, \"#7201a8\"], [0.3333333333333333, \"#9c179e\"], [0.4444444444444444, \"#bd3786\"], [0.5555555555555556, \"#d8576b\"], [0.6666666666666666, \"#ed7953\"], [0.7777777777777778, \"#fb9f3a\"], [0.8888888888888888, \"#fdca26\"], [1.0, \"#f0f921\"]], \"type\": \"heatmapgl\"}], \"histogram\": [{\"marker\": {\"colorbar\": {\"outlinewidth\": 0, \"ticks\": \"\"}}, \"type\": \"histogram\"}], \"histogram2d\": [{\"colorbar\": {\"outlinewidth\": 0, \"ticks\": \"\"}, \"colorscale\": [[0.0, \"#0d0887\"], [0.1111111111111111, \"#46039f\"], [0.2222222222222222, \"#7201a8\"], [0.3333333333333333, \"#9c179e\"], [0.4444444444444444, \"#bd3786\"], [0.5555555555555556, \"#d8576b\"], [0.6666666666666666, \"#ed7953\"], [0.7777777777777778, \"#fb9f3a\"], [0.8888888888888888, \"#fdca26\"], [1.0, \"#f0f921\"]], \"type\": \"histogram2d\"}], \"histogram2dcontour\": [{\"colorbar\": {\"outlinewidth\": 0, \"ticks\": \"\"}, \"colorscale\": [[0.0, \"#0d0887\"], [0.1111111111111111, \"#46039f\"], [0.2222222222222222, \"#7201a8\"], [0.3333333333333333, \"#9c179e\"], [0.4444444444444444, \"#bd3786\"], [0.5555555555555556, \"#d8576b\"], [0.6666666666666666, \"#ed7953\"], [0.7777777777777778, \"#fb9f3a\"], [0.8888888888888888, \"#fdca26\"], [1.0, \"#f0f921\"]], \"type\": \"histogram2dcontour\"}], \"mesh3d\": [{\"colorbar\": {\"outlinewidth\": 0, \"ticks\": \"\"}, \"type\": \"mesh3d\"}], \"parcoords\": [{\"line\": {\"colorbar\": {\"outlinewidth\": 0, \"ticks\": \"\"}}, \"type\": \"parcoords\"}], \"pie\": [{\"automargin\": true, \"type\": \"pie\"}], \"scatter\": [{\"marker\": {\"colorbar\": {\"outlinewidth\": 0, \"ticks\": \"\"}}, \"type\": \"scatter\"}], \"scatter3d\": [{\"line\": {\"colorbar\": {\"outlinewidth\": 0, \"ticks\": \"\"}}, \"marker\": {\"colorbar\": {\"outlinewidth\": 0, \"ticks\": \"\"}}, \"type\": \"scatter3d\"}], \"scattercarpet\": [{\"marker\": {\"colorbar\": {\"outlinewidth\": 0, \"ticks\": \"\"}}, \"type\": \"scattercarpet\"}], \"scattergeo\": [{\"marker\": {\"colorbar\": {\"outlinewidth\": 0, \"ticks\": \"\"}}, \"type\": \"scattergeo\"}], \"scattergl\": [{\"marker\": {\"colorbar\": {\"outlinewidth\": 0, \"ticks\": \"\"}}, \"type\": \"scattergl\"}], \"scattermapbox\": [{\"marker\": {\"colorbar\": {\"outlinewidth\": 0, \"ticks\": \"\"}}, \"type\": \"scattermapbox\"}], \"scatterpolar\": [{\"marker\": {\"colorbar\": {\"outlinewidth\": 0, \"ticks\": \"\"}}, \"type\": \"scatterpolar\"}], \"scatterpolargl\": [{\"marker\": {\"colorbar\": {\"outlinewidth\": 0, \"ticks\": \"\"}}, \"type\": \"scatterpolargl\"}], \"scatterternary\": [{\"marker\": {\"colorbar\": {\"outlinewidth\": 0, \"ticks\": \"\"}}, \"type\": \"scatterternary\"}], \"surface\": [{\"colorbar\": {\"outlinewidth\": 0, \"ticks\": \"\"}, \"colorscale\": [[0.0, \"#0d0887\"], [0.1111111111111111, \"#46039f\"], [0.2222222222222222, \"#7201a8\"], [0.3333333333333333, \"#9c179e\"], [0.4444444444444444, \"#bd3786\"], [0.5555555555555556, \"#d8576b\"], [0.6666666666666666, \"#ed7953\"], [0.7777777777777778, \"#fb9f3a\"], [0.8888888888888888, \"#fdca26\"], [1.0, \"#f0f921\"]], \"type\": \"surface\"}], \"table\": [{\"cells\": {\"fill\": {\"color\": \"#EBF0F8\"}, \"line\": {\"color\": \"white\"}}, \"header\": {\"fill\": {\"color\": \"#C8D4E3\"}, \"line\": {\"color\": \"white\"}}, \"type\": \"table\"}]}, \"layout\": {\"annotationdefaults\": {\"arrowcolor\": \"#2a3f5f\", \"arrowhead\": 0, \"arrowwidth\": 1}, \"autotypenumbers\": \"strict\", \"coloraxis\": {\"colorbar\": {\"outlinewidth\": 0, \"ticks\": \"\"}}, \"colorscale\": {\"diverging\": [[0, \"#8e0152\"], [0.1, \"#c51b7d\"], [0.2, \"#de77ae\"], [0.3, \"#f1b6da\"], [0.4, \"#fde0ef\"], [0.5, \"#f7f7f7\"], [0.6, \"#e6f5d0\"], [0.7, \"#b8e186\"], [0.8, \"#7fbc41\"], [0.9, \"#4d9221\"], [1, \"#276419\"]], \"sequential\": [[0.0, \"#0d0887\"], [0.1111111111111111, \"#46039f\"], [0.2222222222222222, \"#7201a8\"], [0.3333333333333333, \"#9c179e\"], [0.4444444444444444, \"#bd3786\"], [0.5555555555555556, \"#d8576b\"], [0.6666666666666666, \"#ed7953\"], [0.7777777777777778, \"#fb9f3a\"], [0.8888888888888888, \"#fdca26\"], [1.0, \"#f0f921\"]], \"sequentialminus\": [[0.0, \"#0d0887\"], [0.1111111111111111, \"#46039f\"], [0.2222222222222222, \"#7201a8\"], [0.3333333333333333, \"#9c179e\"], [0.4444444444444444, \"#bd3786\"], [0.5555555555555556, \"#d8576b\"], [0.6666666666666666, \"#ed7953\"], [0.7777777777777778, \"#fb9f3a\"], [0.8888888888888888, \"#fdca26\"], [1.0, \"#f0f921\"]]}, \"colorway\": [\"#636efa\", \"#EF553B\", \"#00cc96\", \"#ab63fa\", \"#FFA15A\", \"#19d3f3\", \"#FF6692\", \"#B6E880\", \"#FF97FF\", \"#FECB52\"], \"font\": {\"color\": \"#2a3f5f\"}, \"geo\": {\"bgcolor\": \"white\", \"lakecolor\": \"white\", \"landcolor\": \"#E5ECF6\", \"showlakes\": true, \"showland\": true, \"subunitcolor\": \"white\"}, \"hoverlabel\": {\"align\": \"left\"}, \"hovermode\": \"closest\", \"mapbox\": {\"style\": \"light\"}, \"paper_bgcolor\": \"white\", \"plot_bgcolor\": \"#E5ECF6\", \"polar\": {\"angularaxis\": {\"gridcolor\": \"white\", \"linecolor\": \"white\", \"ticks\": \"\"}, \"bgcolor\": \"#E5ECF6\", \"radialaxis\": {\"gridcolor\": \"white\", \"linecolor\": \"white\", \"ticks\": \"\"}}, \"scene\": {\"xaxis\": {\"backgroundcolor\": \"#E5ECF6\", \"gridcolor\": \"white\", \"gridwidth\": 2, \"linecolor\": \"white\", \"showbackground\": true, \"ticks\": \"\", \"zerolinecolor\": \"white\"}, \"yaxis\": {\"backgroundcolor\": \"#E5ECF6\", \"gridcolor\": \"white\", \"gridwidth\": 2, \"linecolor\": \"white\", \"showbackground\": true, \"ticks\": \"\", \"zerolinecolor\": \"white\"}, \"zaxis\": {\"backgroundcolor\": \"#E5ECF6\", \"gridcolor\": \"white\", \"gridwidth\": 2, \"linecolor\": \"white\", \"showbackground\": true, \"ticks\": \"\", \"zerolinecolor\": \"white\"}}, \"shapedefaults\": {\"line\": {\"color\": \"#2a3f5f\"}}, \"ternary\": {\"aaxis\": {\"gridcolor\": \"white\", \"linecolor\": \"white\", \"ticks\": \"\"}, \"baxis\": {\"gridcolor\": \"white\", \"linecolor\": \"white\", \"ticks\": \"\"}, \"bgcolor\": \"#E5ECF6\", \"caxis\": {\"gridcolor\": \"white\", \"linecolor\": \"white\", \"ticks\": \"\"}}, \"title\": {\"x\": 0.05}, \"xaxis\": {\"automargin\": true, \"gridcolor\": \"white\", \"linecolor\": \"white\", \"ticks\": \"\", \"title\": {\"standoff\": 15}, \"zerolinecolor\": \"white\", \"zerolinewidth\": 2}, \"yaxis\": {\"automargin\": true, \"gridcolor\": \"white\", \"linecolor\": \"white\", \"ticks\": \"\", \"title\": {\"standoff\": 15}, \"zerolinecolor\": \"white\", \"zerolinewidth\": 2}}}, \"xaxis\": {\"anchor\": \"y\", \"domain\": [0.0, 1.0], \"title\": {\"text\": \"Year\"}}, \"yaxis\": {\"anchor\": \"x\", \"domain\": [0.0, 1.0], \"title\": {\"text\": \"Number of registred companies\"}}},                        {\"responsive\": true}                    ).then(function(){\n",
       "                            \n",
       "var gd = document.getElementById('458b9c33-b4c5-48dc-b718-57ad61b3b72d');\n",
       "var x = new MutationObserver(function (mutations, observer) {{\n",
       "        var display = window.getComputedStyle(gd).display;\n",
       "        if (!display || display === 'none') {{\n",
       "            console.log([gd, 'removed!']);\n",
       "            Plotly.purge(gd);\n",
       "            observer.disconnect();\n",
       "        }}\n",
       "}});\n",
       "\n",
       "// Listen for the removal of the full notebook cells\n",
       "var notebookContainer = gd.closest('#notebook-container');\n",
       "if (notebookContainer) {{\n",
       "    x.observe(notebookContainer, {childList: true});\n",
       "}}\n",
       "\n",
       "// Listen for the clearing of the current output cell\n",
       "var outputEl = gd.closest('.output');\n",
       "if (outputEl) {{\n",
       "    x.observe(outputEl, {childList: true});\n",
       "}}\n",
       "\n",
       "                        })                };                });            </script>        </div>"
      ]
     },
     "metadata": {},
     "output_type": "display_data"
    }
   ],
   "source": [
    "year_count = data.groupby('YEAR_OF_REGISTRATION').size().to_frame().reset_index()\n",
    "\n",
    "px.bar(year_count, x = 'YEAR_OF_REGISTRATION', y = 0, \n",
    "       labels={'YEAR_OF_REGISTRATION' : 'Year',\n",
    "               '0': 'Number of registred companies' })"
   ]
  }
 ],
 "metadata": {
  "kernelspec": {
   "display_name": "Python 3",
   "language": "python",
   "name": "python3"
  },
  "language_info": {
   "codemirror_mode": {
    "name": "ipython",
    "version": 3
   },
   "file_extension": ".py",
   "mimetype": "text/x-python",
   "name": "python",
   "nbconvert_exporter": "python",
   "pygments_lexer": "ipython3",
   "version": "3.7.2"
  }
 },
 "nbformat": 4,
 "nbformat_minor": 2
}
